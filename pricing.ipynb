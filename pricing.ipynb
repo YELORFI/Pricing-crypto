{
 "cells": [
  {
   "cell_type": "code",
   "execution_count": 2,
   "metadata": {},
   "outputs": [],
   "source": [
    "import pandas as pd\n",
    "import numpy as np\n",
    "import matplotlib.pyplot as plt\n",
    "import logging\n",
    "import sys\n",
    "import os\n",
    "from datetime import datetime, timedelta\n",
    "\n",
    "import warnings\n",
    "warnings.simplefilter('ignore')\n",
    "\n",
    "from Local_lib.assets import *\n",
    "from Local_lib.models import BlackScholesModel, HestonModel, SVJModel, SVCJModel\n",
    "from Local_lib.period import Period\n",
    "from Local_lib.volsurf import VolatilitySurface\n",
    "from Local_lib.useful import bs_explicit_call"
   ]
  },
  {
   "cell_type": "code",
   "execution_count": 3,
   "metadata": {},
   "outputs": [
    {
     "data": {
      "text/plain": [
       "(321.38682671745164, 553.854853530999)"
      ]
     },
     "execution_count": 3,
     "metadata": {},
     "output_type": "execute_result"
    }
   ],
   "source": [
    "vs = VolatilitySurface.from_date(datetime(2019, 4, 1))\n",
    "vs.calibrate()\n",
    "#def bs_explicit_call(ttm, strike, spot, rate, SIGMA, dividends=0.):\n",
    "#def iv(ttm, moneyness(spot/strike)):\n",
    "\n",
    "bs_explicit_call(30/365, 4000, 4088.16, 0., vs.iv(30/365, 4088.16/4000)) ,\\\n",
    "bs_explicit_call(90/365, 4000, 4088.16, 0., vs.iv(90/365, 4088.16/4000))"
   ]
  },
  {
   "cell_type": "code",
   "execution_count": 4,
   "metadata": {},
   "outputs": [
    {
     "data": {
      "text/plain": [
       "(1125.6539312410669, 1879.55334388164)"
      ]
     },
     "execution_count": 4,
     "metadata": {},
     "output_type": "execute_result"
    }
   ],
   "source": [
    "vs = VolatilitySurface.from_date(datetime(2019, 10, 1))\n",
    "vs.calibrate()\n",
    "bs_explicit_call(30/365, 8000, 8367.51, 0., vs.iv(30/365, 8367.51/8000)), \\\n",
    "bs_explicit_call(90/365, 8000, 8367.51, 0., vs.iv(90/365, 8367.51/8000))"
   ]
  },
  {
   "cell_type": "code",
   "execution_count": 5,
   "metadata": {},
   "outputs": [
    {
     "data": {
      "text/plain": [
       "(719.4803001961936, 1474.8100110892751)"
      ]
     },
     "execution_count": 5,
     "metadata": {},
     "output_type": "execute_result"
    }
   ],
   "source": [
    "vs = VolatilitySurface.from_date(datetime(2020, 2, 1))\n",
    "vs.calibrate()\n",
    "bs_explicit_call(30/365, 10000, 9804.85, 0., vs.iv(30/365, 9804.85/10000)), \\\n",
    "bs_explicit_call(90/365, 10000, 9804.85, 0., vs.iv(90/365, 9804.85/10000))"
   ]
  },
  {
   "cell_type": "code",
   "execution_count": 3,
   "metadata": {},
   "outputs": [],
   "source": [
    "t0 = datetime.strptime('20190401', '%Y%m%d')\n",
    "t1 = datetime.strptime('20191001', '%Y%m%d')\n",
    "t2 = datetime.strptime('20200201', '%Y%m%d')\n",
    "t3 = datetime.strptime('20200701', '%Y%m%d')"
   ]
  },
  {
   "cell_type": "code",
   "execution_count": 9,
   "metadata": {},
   "outputs": [],
   "source": [
    "#ttm correction\n",
    "periods = [\n",
    "    {\n",
    "        'period': Period(t0, t1, 'Rising'),\n",
    "        's0': 4088.16,\n",
    "        'maturities': [30, 90],\n",
    "        'strikes': [3000, 4000, 5000],\n",
    "        'rate': 0,\n",
    "    },\n",
    "    {\n",
    "        'period': Period(t1, t2, 'Calm'),\n",
    "        's0': 8367.51,\n",
    "        'maturities': [30, 90],\n",
    "        'strikes': [7000, 8000, 9000],\n",
    "        'rate': 0,\n",
    "    },\n",
    "    {\n",
    "        'period': Period(t2, t3, 'Covid'),\n",
    "        's0': 9804.85,\n",
    "        'maturities': [30, 90],\n",
    "        'strikes': [9000, 10000, 11000],\n",
    "        'rate': 0,\n",
    "    },\n",
    "]"
   ]
  },
  {
   "cell_type": "code",
   "execution_count": 11,
   "metadata": {},
   "outputs": [
    {
     "data": {
      "text/plain": [
       "4088.16"
      ]
     },
     "execution_count": 11,
     "metadata": {},
     "output_type": "execute_result"
    }
   ],
   "source": [
    "periods[0][\"s0\"]"
   ]
  },
  {
   "cell_type": "code",
   "execution_count": 17,
   "metadata": {},
   "outputs": [],
   "source": [
    "directory = 'Results'\n",
    "os.makedirs(f\"{directory}/Pricing\", exist_ok=True)\n"
   ]
  },
  {
   "cell_type": "markdown",
   "metadata": {},
   "source": [
    "# Pricing"
   ]
  },
  {
   "cell_type": "code",
   "execution_count": 35,
   "metadata": {},
   "outputs": [],
   "source": [
    "rows = []\n",
    "\n",
    "for _ in periods:\n",
    "    \n",
    "    period = _[\"period\"]\n",
    "    strikes = _[\"strikes\"]\n",
    "    maturities = _[\"maturities\"]\n",
    "    s0 = _[\"s0\"]\n",
    "    rate = _[\"rate\"]\n",
    "    \n",
    "    vs = VolatilitySurface.from_date(period.t0, svi_caching=True)\n",
    "    vs.calibrate()\n",
    "\n",
    "    for strike in strikes:\n",
    "        for maturity in maturities:\n",
    "            title = f\"{period.t0.strftime('%Y-%m-%d')}__{strike}__{maturity}\"\n",
    "            ttm = maturity / 365\n",
    "            v0 = bs_explicit_call(ttm, strike, s0, rate, vs.iv(ttm, strike/s0))\n",
    "            rows += [[title, v0]]\n",
    "            \n",
    "df = pd.DataFrame(rows, columns=['label', 'price'])\n",
    "df.to_csv(f'{directory}/Pricing/__prices.csv')"
   ]
  },
  {
   "cell_type": "code",
   "execution_count": 67,
   "metadata": {},
   "outputs": [],
   "source": [
    "df = pd.read_csv('Results/Pricing/__prices.csv')\n",
    "df.to_clipboard(index=False, sep=\"&\",float_format='{:.4f}'.format)"
   ]
  },
  {
   "cell_type": "markdown",
   "metadata": {},
   "source": [
    "## Other models"
   ]
  },
  {
   "cell_type": "code",
   "execution_count": 2,
   "metadata": {},
   "outputs": [],
   "source": [
    "def get_returns(period, interval):\n",
    "    \n",
    "    date_range = pd.date_range(period.t0 - timedelta(days=interval), period.t1)\n",
    "    df = pd.read_csv(\"Results/BTCUSDT.csv\")\n",
    "    df['Date'] = pd.to_datetime(df['Date'])\n",
    "    df = df.set_index('Date')\n",
    "    \n",
    "    returns = np.log(df['Close']).diff()\n",
    "    returns = returns.dropna()\n",
    "    returns = returns.loc[date_range]\n",
    "    \n",
    "    return returns"
   ]
  },
  {
   "cell_type": "code",
   "execution_count": 5,
   "metadata": {},
   "outputs": [],
   "source": [
    "black_scholes = BlackScholesModel()\n",
    "heston = HestonModel()\n",
    "svj = SVJModel()\n",
    "svcj = SVCJModel()\n"
   ]
  },
  {
   "cell_type": "code",
   "execution_count": 47,
   "metadata": {},
   "outputs": [],
   "source": [
    "periods = [\n",
    "    {\n",
    "        'period': Period(t0, t1, 'Rising'),\n",
    "        's0': 4088.16,\n",
    "        'maturities': [30, 90],\n",
    "        'strikes': [3000, 4000, 5000],\n",
    "        'rate': 0,\n",
    "    },\n",
    "    {\n",
    "        'period': Period(t1, t2, 'Calm'),\n",
    "        's0': 8367.51,\n",
    "        'maturities': [30, 90],\n",
    "        'strikes': [7000, 8000, 9000],\n",
    "        'rate': 0,\n",
    "    },\n",
    "    {\n",
    "        'period': Period(t2, t3, 'Covid'),\n",
    "        's0': 9804.85,\n",
    "        'maturities': [30, 90],\n",
    "        'strikes': [9000, 10000, 11000],\n",
    "        'rate': 0,\n",
    "    },\n",
    "]"
   ]
  },
  {
   "cell_type": "code",
   "execution_count": 54,
   "metadata": {},
   "outputs": [],
   "source": [
    "np.random.seed(1337)\n",
    "\n",
    "npaths = 100000\n",
    "Prices = []\n",
    "model = SVCJModel()\n",
    "os.makedirs(f\"{directory}/Pricing/{model.name}\", exist_ok=True)\n",
    "\n",
    "#    def paths(self, paths, period, s0, rate, npaths):\n",
    "\n",
    "for _ in periods:\n",
    "    period = _[\"period\"]\n",
    "    strikes = _[\"strikes\"]\n",
    "    maturities = _[\"maturities\"]\n",
    "    s0 = _[\"s0\"]\n",
    "    rate = _[\"rate\"]\n",
    "    paths = np.zeros((npaths, period.days))\n",
    "    svcj.paths(paths,period,s0,rate,npaths)\n",
    "    file_path = f'{directory}/Pricing/{model.name}/{period.name}_prices.csv'\n",
    "    np.savetxt(file_path, paths, delimiter=',')\n"
   ]
  },
  {
   "cell_type": "code",
   "execution_count": 60,
   "metadata": {},
   "outputs": [],
   "source": [
    "call_option_prices = []\n",
    "os.makedirs(f\"{directory}/Pricing/{model.name}/option_prices\", exist_ok=True)\n",
    "##put_option_prices = []\n",
    "for _ in periods:\n",
    "\n",
    "    call_payoffs = []\n",
    "    ##put_payoffs = []\n",
    "\n",
    "    period = _[\"period\"]\n",
    "    strikes = _[\"strikes\"]\n",
    "    maturities = _[\"maturities\"]\n",
    "    s0 = _[\"s0\"]\n",
    "    rate = _[\"rate\"]\n",
    "\n",
    "    paths = np.loadtxt(f'{directory}/Pricing/{model.name}/{period.name}_prices.csv', delimiter=',')\n",
    "\n",
    "    for strike in strikes:\n",
    "        for maturity in maturities:\n",
    "            for path in paths:\n",
    "                call_payoff = max(path[-1] - strike, 0)  \n",
    "                ##put_payoff = max(strike - path[-1], 0)  \n",
    "                call_payoffs.append(call_payoff)\n",
    "                ##put_payoffs.append(put_payoff)\n",
    "                \n",
    "                # Discount \n",
    "                call_option_price = expected_call_payoff * np.exp(-rate * maturities[0] / 365)\n",
    "                ##put_option_price = expected_put_payoff * np.exp(-rate * maturities[0] / 365)\n",
    "\n",
    "            expected_call_payoff = np.mean(call_payoffs)\n",
    "            ##expected_put_payoff = np.mean(put_payoffs)\n",
    "\n",
    "            title = f\"{period.t0.strftime('%Y-%m-%d')}__{strike}__{maturity}\"\n",
    "            call_option_prices += [[title, expected_call_payoff]]\n",
    "            \n",
    "df = pd.DataFrame(call_option_prices, columns=['label', 'price'])\n",
    "df.to_csv(f\"{directory}/Pricing/{model.name}/option_prices/call_prices.csv\")    \n",
    "\n",
    "#30 secondes"
   ]
  },
  {
   "cell_type": "code",
   "execution_count": 68,
   "metadata": {},
   "outputs": [],
   "source": [
    "df = pd.read_csv(f\"{directory}/Pricing/{model.name}/option_prices/call_prices.csv\")\n",
    "df.to_clipboard(index=False, sep=\"&\",float_format='{:.4f}'.format)"
   ]
  }
 ],
 "metadata": {
  "kernelspec": {
   "display_name": "Python 3",
   "language": "python",
   "name": "python3"
  },
  "language_info": {
   "codemirror_mode": {
    "name": "ipython",
    "version": 3
   },
   "file_extension": ".py",
   "mimetype": "text/x-python",
   "name": "python",
   "nbconvert_exporter": "python",
   "pygments_lexer": "ipython3",
   "version": "3.11.4"
  }
 },
 "nbformat": 4,
 "nbformat_minor": 4
}
